{
 "cells": [
  {
   "cell_type": "code",
   "execution_count": 2,
   "metadata": {},
   "outputs": [],
   "source": [
    "import tkinter as tk\n",
    "import pandas as pd\n",
    "from tkinter import filedialog\n",
    "\n",
    "root = tk.Tk()\n",
    "file=filedialog.askopenfilename()\n",
    "root.withdraw()\n",
    "\n",
    "df=pd.read_excel(file, skiprows=5, skipfooter=2, header=0)"
   ]
  },
  {
   "cell_type": "code",
   "execution_count": 3,
   "metadata": {},
   "outputs": [
    {
     "name": "stderr",
     "output_type": "stream",
     "text": [
      "/home/mohammad/anaconda3/lib/python3.8/site-packages/pandas/core/indexing.py:966: SettingWithCopyWarning: \n",
      "A value is trying to be set on a copy of a slice from a DataFrame.\n",
      "Try using .loc[row_indexer,col_indexer] = value instead\n",
      "\n",
      "See the caveats in the documentation: https://pandas.pydata.org/pandas-docs/stable/user_guide/indexing.html#returning-a-view-versus-a-copy\n",
      "  self.obj[item] = s\n"
     ]
    }
   ],
   "source": [
    "#Deleting 3rd row of each participant\n",
    "df.dropna(subset=['کد ملی'], inplace=True)\n",
    "df.reset_index(drop=True, inplace=True)\n",
    "\n",
    "#Creating a df from even rows\n",
    "df1 = df[df.index%2 == 0]\n",
    "df1.iloc[0,[8,9,11]]=[\"Birth_En\",\"Mobile\",\"Name_En\"]\n",
    "df1.columns=df1.iloc[0]\n",
    "df1=df1.drop(df1.index[0])\n",
    "df1.reset_index(drop=True, inplace=True)\n",
    "\n",
    "#Creating a df from odd rows\n",
    "df2 = df[df.index%2 == 1]\n",
    "df2.reset_index(drop=True, inplace=True)\n",
    "df2.columns.values[[6,8,9,11]]=[\"Prov\",\"Birth_Fa\",\"Nat_ID\",\"Name_Fa\"]\n",
    "\n",
    "#Prearing a neat df\n",
    "df_concat = pd.concat([df1, df2], axis=1)\n",
    "df_concat=df_concat.iloc[:,[26,11,21,23,8,9,24]]"
   ]
  },
  {
   "cell_type": "code",
   "execution_count": 4,
   "metadata": {},
   "outputs": [],
   "source": [
    "#Dataframe to Dictionary\n",
    "df_dict=df_concat.to_dict(orient='series')"
   ]
  },
  {
   "cell_type": "code",
   "execution_count": 5,
   "metadata": {},
   "outputs": [],
   "source": [
    "#Check and report the errors\n",
    "Errors=\"\"\n",
    "\n",
    "for value in df_dict['Name_Fa'].items():\n",
    "    try:\n",
    "        not(str(value[1]).isdigit() and str(value[1]).isascii())\n",
    "    except:\n",
    "        Errors+= str(value[1]) + \" in row number \" + str(value[0]+1) + \" is not Persian.\" + \"\\n\"\n",
    "    \n",
    "for value in df_dict['Name_En'].items():\n",
    "    try:\n",
    "        str(value[1]).title().isascii()\n",
    "    except:\n",
    "        Errors+= str(value[1]) + \" in row number \" + str(value[0]+1) + \" is not English.\" + \"\\n\"\n",
    "        \n",
    "for value in df_dict['Prov'].items():\n",
    "    try:\n",
    "        not(str(value[1]).isdigit() and str(value[1]).isascii())\n",
    "    except:\n",
    "        Errors+= str(value[1]) + \" in row number \" + str(value[0]+1) + \" is not Persian.\" + \"\\n\"\n",
    "\n",
    "for value in df_dict['Birth_Fa'].items():\n",
    "    try:\n",
    "        str(value[1]).replace(\" \",\"\").isdigit() \n",
    "    except:\n",
    "        Errors+= str(value[1]) + \" in row number \" + str(value[0]+1) + \" is not a valid date like 1399/01/01.\" + \"\\n\"\n",
    "\n",
    "for value in df_dict['Birth_En'].items():\n",
    "    try:\n",
    "        str(value[1]).replace(\" \",\"\").isdigit()\n",
    "    except:\n",
    "        Errors+= str(value[1]) + \" in row number \" + str(value[0]+1) + \" is not a valid date.\" + \"\\n\"\n",
    "        \n",
    "for value in df_dict['Mobile'].items():\n",
    "    try:\n",
    "        str(value[1]).isdigit() and len(str(value[1]))==11\n",
    "    except:\n",
    "        Errors+= str(value[1]) + \" in row number \" + str(value[0]+1) + \" is not a valid Mobile Phone.\" + \"\\n\"\n",
    "        \n",
    "for value in df_dict['Nat_ID'].items():\n",
    "    try:\n",
    "        str(value[1]).isdigit() and len(str(value[1]))==10\n",
    "    except:\n",
    "        Errors+= str(value[1]) + \" in row number \" + str(value[0]+1) + \" is not a valid National ID.\" + \"\\n\""
   ]
  },
  {
   "cell_type": "code",
   "execution_count": 12,
   "metadata": {
    "scrolled": true
   },
   "outputs": [
    {
     "name": "stdout",
     "output_type": "stream",
     "text": [
      "<class 'pandas.core.series.Series'>\n"
     ]
    }
   ],
   "source": [
    "#Dictionary to class\n",
    "class Besmela:\n",
    "    #def __init__(self, Dict):\n",
    "        for k, v in Dict.items():\n",
    "            setattr(self, k, v)\n",
    "\n",
    "df_class=Besmela(df_dict)\n",
    "#print(df_dict.items())\n",
    "#dir(df_class)\n",
    "\n",
    "print(type(df_class.Birth_Fa))"
   ]
  },
  {
   "cell_type": "code",
   "execution_count": null,
   "metadata": {},
   "outputs": [],
   "source": [
    "import sqlite3 as sq\n",
    "conn= sq.connect('competition.db')\n",
    "cur= conn.cursor()\n",
    "cur.execute(\"\"\" CREATE TABLE athletes_info5 (Name_Fa, Name_En, Prov, Birth_Fa, Birth_En, Mobile, Nat_ID)\"\"\")\n",
    "cur.execute(\"\"\"INSERT INTO athletes_info VALUES (?,?,?,?,?,?,?)\"\"\", df_class)\n",
    "conn.commit()"
   ]
  }
 ],
 "metadata": {
  "kernelspec": {
   "display_name": "Python 3",
   "language": "python",
   "name": "python3"
  },
  "language_info": {
   "codemirror_mode": {
    "name": "ipython",
    "version": 3
   },
   "file_extension": ".py",
   "mimetype": "text/x-python",
   "name": "python",
   "nbconvert_exporter": "python",
   "pygments_lexer": "ipython3",
   "version": "3.8.3"
  }
 },
 "nbformat": 4,
 "nbformat_minor": 4
}
