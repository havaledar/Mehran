{
 "cells": [
  {
   "cell_type": "code",
   "execution_count": 5,
   "metadata": {},
   "outputs": [
    {
     "name": "stdout",
     "output_type": "stream",
     "text": [
      "/home/mohammad/Downloads/Report.xls\n",
      "                          وضعیت مدارک  Unnamed: 1  Unnamed: 2  \\\n",
      "0                        شماره پیگیری         NaN         NaN   \n",
      "1                          بررسی نشده         NaN         NaN   \n",
      "2                      325327831220 -         NaN         NaN   \n",
      "3       باشگاه سنگ نوردی داوودی تهران         NaN         NaN   \n",
      "4                          بررسی نشده         NaN         NaN   \n",
      "5                      325336472220 -         NaN         NaN   \n",
      "6      باشگاه کوه نوردی آلپاین شیروان         NaN         NaN   \n",
      "7                          بررسی نشده         NaN         NaN   \n",
      "8                      325368317552 -         NaN         NaN   \n",
      "9   باشگاه کوه نوردی بام ایران شهرکرد         NaN         NaN   \n",
      "10                         بررسی نشده         NaN         NaN   \n",
      "11                     325396005800 -         NaN         NaN   \n",
      "12      باشگاه کوه نوردی شاهو کردستان         NaN         NaN   \n",
      "\n",
      "                          نوع حضور تایید هئیت استان  Unnamed: 5  \\\n",
      "0                              NaN     مبلق پرداختی         NaN   \n",
      "1         شرکت‌کننده اصلی درمسابقه        تایید شده         NaN   \n",
      "2                              NaN          2000000         NaN   \n",
      "3                              NaN              NaN         NaN   \n",
      "4   شرکت‌‌ کننده (آموزش/صعود/اردو)        تایید شده         NaN   \n",
      "5                              NaN          2000000         NaN   \n",
      "6                              NaN              NaN         NaN   \n",
      "7   شرکت‌‌ کننده (آموزش/صعود/اردو)        تایید شده         NaN   \n",
      "8                              NaN          2000000         NaN   \n",
      "9                              NaN              NaN         NaN   \n",
      "10  شرکت‌‌ کننده (آموزش/صعود/اردو)        تایید شده         NaN   \n",
      "11                             NaN          2000000         NaN   \n",
      "12                             NaN              NaN         NaN   \n",
      "\n",
      "          استان اعزامی  Unnamed: 7  تاریخ تولد       کد ملی  Unnamed: 10  \\\n",
      "0                  NaN         NaN         NaN       موبایل          NaN   \n",
      "1                تهران         NaN  1373/01/05   0440377331          NaN   \n",
      "2                  NaN         NaN   3/25/1994  09128305769          NaN   \n",
      "3                  NaN         NaN         NaN          NaN          NaN   \n",
      "4         خراسان شمالی         NaN  1367/05/02   0829827757          NaN   \n",
      "5                  NaN         NaN   7/24/1988  09391612742          NaN   \n",
      "6                  NaN         NaN         NaN          NaN          NaN   \n",
      "7   چهارمحال و بختیاری         NaN  1368/11/18   4670057650          NaN   \n",
      "8                  NaN         NaN    2/7/1990  09383014890          NaN   \n",
      "9                  NaN         NaN         NaN          NaN          NaN   \n",
      "10             کردستان         NaN  1372/01/19   3750247651          NaN   \n",
      "11                 NaN         NaN    4/8/1993  09182471508          NaN   \n",
      "12                 NaN         NaN         NaN          NaN          NaN   \n",
      "\n",
      "     نام و نام خانوادگی  Unnamed: 12  Unnamed: 13  ردیف  \n",
      "0                   NaN          NaN          NaN   NaN  \n",
      "1     کیانا سادات درهمی          NaN          NaN   1.0  \n",
      "2   kiana sadat derhami          NaN          NaN   NaN  \n",
      "3                   NaN          NaN          NaN   NaN  \n",
      "4        الهام رباط جزی          NaN          NaN   2.0  \n",
      "5       elham robatjazi          NaN          NaN   NaN  \n",
      "6                   NaN          NaN          NaN   NaN  \n",
      "7            زهرا حیدری          NaN          NaN   3.0  \n",
      "8         zahra heidari          NaN          NaN   NaN  \n",
      "9                   NaN          NaN          NaN   NaN  \n",
      "10           نگار ساجدی          NaN          NaN   4.0  \n",
      "11         negar sajedi          NaN          NaN   NaN  \n",
      "12                  NaN          NaN          NaN   NaN  \n"
     ]
    }
   ],
   "source": [
    "import tkinter as tk\n",
    "import pandas as pd\n",
    "from tkinter import filedialog\n",
    "\n",
    "root = tk.Tk()\n",
    "\n",
    "file=filedialog.askopenfilename()\n",
    "\n",
    "root.withdraw()\n",
    "\n",
    "print(file)\n",
    "\n",
    "df=pd.read_excel(file, skiprows=5, skipfooter=2, header=0)\n",
    "\n",
    "print(df)\n"
   ]
  },
  {
   "cell_type": "code",
   "execution_count": null,
   "metadata": {},
   "outputs": [],
   "source": []
  },
  {
   "cell_type": "code",
   "execution_count": null,
   "metadata": {},
   "outputs": [],
   "source": []
  }
 ],
 "metadata": {
  "kernelspec": {
   "display_name": "Python 3",
   "language": "python",
   "name": "python3"
  }
 },
 "nbformat": 4,
 "nbformat_minor": 4
}
