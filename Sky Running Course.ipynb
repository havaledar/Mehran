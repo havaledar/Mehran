{
 "cells": [
  {
   "cell_type": "code",
   "execution_count": 2,
   "metadata": {},
   "outputs": [],
   "source": [
    "import pandas as pd\n",
    "\n",
    "df=pd.read_excel(\"Report.xls\", skiprows=5, skipfooter=2, header=0)"
   ]
  },
  {
   "cell_type": "code",
   "execution_count": 3,
   "metadata": {},
   "outputs": [],
   "source": [
    "def Neat(df):\n",
    "    \n",
    "    df.dropna(subset=['کد ملی'], inplace=True)\n",
    "    df.reset_index(drop=True, inplace=True)\n",
    "\n",
    "    #Creating a df from even rows\n",
    "    df1 = df[df.index%2 == 0]\n",
    "    df1.iloc[0,[8,9,11]]=[\"Birth_En\",\"Mobile\",\"Name_En\"]\n",
    "    df1.columns=df1.iloc[0]\n",
    "    df1=df1.drop(df1.index[0])\n",
    "    df1.reset_index(drop=True, inplace=True)\n",
    "\n",
    "    #Creating a df from odd rows\n",
    "    df2 = df[df.index%2 == 1]\n",
    "    df2.reset_index(drop=True, inplace=True)\n",
    "    df2.columns.values[[6,8,9,11]]=[\"Prov\",\"Birth_Fa\",\"Nat_ID\",\"Name_Fa\"]\n",
    "\n",
    "    #Prearing a neat df\n",
    "    df_concat = pd.concat([df1, df2], axis=1)\n",
    "    df_concat=df_concat.iloc[:,[26,11,21,23,8,9,24]]\n",
    "\n",
    "    return df_concat"
   ]
  },
  {
   "cell_type": "code",
   "execution_count": 4,
   "metadata": {},
   "outputs": [],
   "source": [
    "Neat(df).to_excel(\"output.xlsx\")"
   ]
  },
  {
   "cell_type": "code",
   "execution_count": null,
   "metadata": {},
   "outputs": [],
   "source": []
  }
 ],
 "metadata": {
  "kernelspec": {
   "display_name": "Python 3",
   "language": "python",
   "name": "python3"
  }
 },
 "nbformat": 4,
 "nbformat_minor": 4
}